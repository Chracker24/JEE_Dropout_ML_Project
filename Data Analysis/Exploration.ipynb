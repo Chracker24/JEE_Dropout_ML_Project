{
 "cells": [
  {
   "cell_type": "markdown",
   "id": "1d7740dd",
   "metadata": {},
   "source": [
    "# **Exploration of the JEE DROPOUT DATA**\n",
    "## AIMS\n",
    "- Identify Structure of Data and data outline\n",
    "- Clean the data of NaNs, corrupt entries and missing values \n",
    "- Finding relations that help get a clear view of the data \n",
    "- Ensure that teh data is reliable, accurate and relevant\n",
    "- Visualize the data \n",
    "  - Finding patterns, relationships and correlations that better help understand the data\n",
    "  - Finding the key fields that influence the target variable\n",
    "  - Checking for relationships that may need tweaking or transformation\n",
    "## Importing Libraries "
   ]
  },
  {
   "cell_type": "code",
   "execution_count": 91,
   "id": "c4f6a970",
   "metadata": {},
   "outputs": [],
   "source": [
    "import pandas as pd\n",
    "import numpy as np\n",
    "import matplotlib.pyplot as plt\n",
    "import seaborn as sns"
   ]
  },
  {
   "cell_type": "markdown",
   "id": "3e337f56",
   "metadata": {},
   "source": [
    "Pandas for Data exploration with Excel-like formats <br>\n",
    "Numpy for Numerical and Statistical Analysis<br>\n",
    "Matplotlib.pyplot for data visualization<br>\n",
    "## Reading and working on Data\n"
   ]
  },
  {
   "cell_type": "code",
   "execution_count": 92,
   "id": "8b09174c",
   "metadata": {},
   "outputs": [
    {
     "data": {
      "text/html": [
       "<div>\n",
       "<style scoped>\n",
       "    .dataframe tbody tr th:only-of-type {\n",
       "        vertical-align: middle;\n",
       "    }\n",
       "\n",
       "    .dataframe tbody tr th {\n",
       "        vertical-align: top;\n",
       "    }\n",
       "\n",
       "    .dataframe thead th {\n",
       "        text-align: right;\n",
       "    }\n",
       "</style>\n",
       "<table border=\"1\" class=\"dataframe\">\n",
       "  <thead>\n",
       "    <tr style=\"text-align: right;\">\n",
       "      <th></th>\n",
       "      <th>jee_main_score</th>\n",
       "      <th>jee_advanced_score</th>\n",
       "      <th>mock_test_score_avg</th>\n",
       "      <th>school_board</th>\n",
       "      <th>class_12_percent</th>\n",
       "      <th>attempt_count</th>\n",
       "      <th>coaching_institute</th>\n",
       "      <th>daily_study_hours</th>\n",
       "      <th>family_income</th>\n",
       "      <th>parent_education</th>\n",
       "      <th>location_type</th>\n",
       "      <th>peer_pressure_level</th>\n",
       "      <th>mental_health_issues</th>\n",
       "      <th>admission_taken</th>\n",
       "      <th>dropout</th>\n",
       "    </tr>\n",
       "  </thead>\n",
       "  <tbody>\n",
       "    <tr>\n",
       "      <th>0</th>\n",
       "      <td>78.95</td>\n",
       "      <td>59.22</td>\n",
       "      <td>59.86</td>\n",
       "      <td>CBSE</td>\n",
       "      <td>70.09</td>\n",
       "      <td>1</td>\n",
       "      <td>FIITJEE</td>\n",
       "      <td>5.4</td>\n",
       "      <td>Low</td>\n",
       "      <td>Upto 10th</td>\n",
       "      <td>Urban</td>\n",
       "      <td>Low</td>\n",
       "      <td>No</td>\n",
       "      <td>No</td>\n",
       "      <td>1</td>\n",
       "    </tr>\n",
       "    <tr>\n",
       "      <th>1</th>\n",
       "      <td>70.06</td>\n",
       "      <td>58.75</td>\n",
       "      <td>64.33</td>\n",
       "      <td>State</td>\n",
       "      <td>78.00</td>\n",
       "      <td>1</td>\n",
       "      <td>FIITJEE</td>\n",
       "      <td>5.5</td>\n",
       "      <td>Mid</td>\n",
       "      <td>Upto 10th</td>\n",
       "      <td>Urban</td>\n",
       "      <td>Low</td>\n",
       "      <td>Yes</td>\n",
       "      <td>No</td>\n",
       "      <td>0</td>\n",
       "    </tr>\n",
       "    <tr>\n",
       "      <th>2</th>\n",
       "      <td>81.07</td>\n",
       "      <td>37.27</td>\n",
       "      <td>60.83</td>\n",
       "      <td>ICSE</td>\n",
       "      <td>64.36</td>\n",
       "      <td>1</td>\n",
       "      <td>FIITJEE</td>\n",
       "      <td>7.0</td>\n",
       "      <td>Low</td>\n",
       "      <td>PG</td>\n",
       "      <td>Semi-Urban</td>\n",
       "      <td>Medium</td>\n",
       "      <td>Yes</td>\n",
       "      <td>No</td>\n",
       "      <td>1</td>\n",
       "    </tr>\n",
       "    <tr>\n",
       "      <th>3</th>\n",
       "      <td>93.32</td>\n",
       "      <td>60.72</td>\n",
       "      <td>69.33</td>\n",
       "      <td>ICSE</td>\n",
       "      <td>73.21</td>\n",
       "      <td>1</td>\n",
       "      <td>FIITJEE</td>\n",
       "      <td>2.1</td>\n",
       "      <td>Low</td>\n",
       "      <td>12th</td>\n",
       "      <td>Semi-Urban</td>\n",
       "      <td>Medium</td>\n",
       "      <td>Yes</td>\n",
       "      <td>Yes</td>\n",
       "      <td>0</td>\n",
       "    </tr>\n",
       "    <tr>\n",
       "      <th>4</th>\n",
       "      <td>68.72</td>\n",
       "      <td>77.73</td>\n",
       "      <td>82.37</td>\n",
       "      <td>CBSE</td>\n",
       "      <td>89.02</td>\n",
       "      <td>1</td>\n",
       "      <td>Allen</td>\n",
       "      <td>6.3</td>\n",
       "      <td>Mid</td>\n",
       "      <td>Graduate</td>\n",
       "      <td>Semi-Urban</td>\n",
       "      <td>High</td>\n",
       "      <td>No</td>\n",
       "      <td>Yes</td>\n",
       "      <td>0</td>\n",
       "    </tr>\n",
       "    <tr>\n",
       "      <th>...</th>\n",
       "      <td>...</td>\n",
       "      <td>...</td>\n",
       "      <td>...</td>\n",
       "      <td>...</td>\n",
       "      <td>...</td>\n",
       "      <td>...</td>\n",
       "      <td>...</td>\n",
       "      <td>...</td>\n",
       "      <td>...</td>\n",
       "      <td>...</td>\n",
       "      <td>...</td>\n",
       "      <td>...</td>\n",
       "      <td>...</td>\n",
       "      <td>...</td>\n",
       "      <td>...</td>\n",
       "    </tr>\n",
       "    <tr>\n",
       "      <th>4995</th>\n",
       "      <td>71.31</td>\n",
       "      <td>86.82</td>\n",
       "      <td>57.08</td>\n",
       "      <td>State</td>\n",
       "      <td>84.45</td>\n",
       "      <td>1</td>\n",
       "      <td>FIITJEE</td>\n",
       "      <td>4.7</td>\n",
       "      <td>High</td>\n",
       "      <td>PG</td>\n",
       "      <td>Semi-Urban</td>\n",
       "      <td>High</td>\n",
       "      <td>Yes</td>\n",
       "      <td>Yes</td>\n",
       "      <td>0</td>\n",
       "    </tr>\n",
       "    <tr>\n",
       "      <th>4996</th>\n",
       "      <td>81.96</td>\n",
       "      <td>34.03</td>\n",
       "      <td>82.85</td>\n",
       "      <td>CBSE</td>\n",
       "      <td>73.02</td>\n",
       "      <td>2</td>\n",
       "      <td>Local</td>\n",
       "      <td>4.7</td>\n",
       "      <td>Mid</td>\n",
       "      <td>PG</td>\n",
       "      <td>Urban</td>\n",
       "      <td>High</td>\n",
       "      <td>Yes</td>\n",
       "      <td>Yes</td>\n",
       "      <td>0</td>\n",
       "    </tr>\n",
       "    <tr>\n",
       "      <th>4997</th>\n",
       "      <td>100.00</td>\n",
       "      <td>54.71</td>\n",
       "      <td>83.75</td>\n",
       "      <td>CBSE</td>\n",
       "      <td>77.87</td>\n",
       "      <td>2</td>\n",
       "      <td>NaN</td>\n",
       "      <td>6.3</td>\n",
       "      <td>Mid</td>\n",
       "      <td>PG</td>\n",
       "      <td>Semi-Urban</td>\n",
       "      <td>Medium</td>\n",
       "      <td>Yes</td>\n",
       "      <td>Yes</td>\n",
       "      <td>0</td>\n",
       "    </tr>\n",
       "    <tr>\n",
       "      <th>4998</th>\n",
       "      <td>83.31</td>\n",
       "      <td>73.93</td>\n",
       "      <td>57.39</td>\n",
       "      <td>CBSE</td>\n",
       "      <td>62.25</td>\n",
       "      <td>1</td>\n",
       "      <td>Allen</td>\n",
       "      <td>4.0</td>\n",
       "      <td>High</td>\n",
       "      <td>Upto 10th</td>\n",
       "      <td>Urban</td>\n",
       "      <td>Low</td>\n",
       "      <td>No</td>\n",
       "      <td>Yes</td>\n",
       "      <td>0</td>\n",
       "    </tr>\n",
       "    <tr>\n",
       "      <th>4999</th>\n",
       "      <td>60.13</td>\n",
       "      <td>76.31</td>\n",
       "      <td>66.15</td>\n",
       "      <td>State</td>\n",
       "      <td>94.90</td>\n",
       "      <td>2</td>\n",
       "      <td>FIITJEE</td>\n",
       "      <td>2.1</td>\n",
       "      <td>Mid</td>\n",
       "      <td>12th</td>\n",
       "      <td>Urban</td>\n",
       "      <td>Low</td>\n",
       "      <td>Yes</td>\n",
       "      <td>No</td>\n",
       "      <td>0</td>\n",
       "    </tr>\n",
       "  </tbody>\n",
       "</table>\n",
       "<p>5000 rows × 15 columns</p>\n",
       "</div>"
      ],
      "text/plain": [
       "      jee_main_score  jee_advanced_score  mock_test_score_avg school_board  \\\n",
       "0              78.95               59.22                59.86         CBSE   \n",
       "1              70.06               58.75                64.33        State   \n",
       "2              81.07               37.27                60.83         ICSE   \n",
       "3              93.32               60.72                69.33         ICSE   \n",
       "4              68.72               77.73                82.37         CBSE   \n",
       "...              ...                 ...                  ...          ...   \n",
       "4995           71.31               86.82                57.08        State   \n",
       "4996           81.96               34.03                82.85         CBSE   \n",
       "4997          100.00               54.71                83.75         CBSE   \n",
       "4998           83.31               73.93                57.39         CBSE   \n",
       "4999           60.13               76.31                66.15        State   \n",
       "\n",
       "      class_12_percent  attempt_count coaching_institute  daily_study_hours  \\\n",
       "0                70.09              1            FIITJEE                5.4   \n",
       "1                78.00              1            FIITJEE                5.5   \n",
       "2                64.36              1            FIITJEE                7.0   \n",
       "3                73.21              1            FIITJEE                2.1   \n",
       "4                89.02              1              Allen                6.3   \n",
       "...                ...            ...                ...                ...   \n",
       "4995             84.45              1            FIITJEE                4.7   \n",
       "4996             73.02              2              Local                4.7   \n",
       "4997             77.87              2                NaN                6.3   \n",
       "4998             62.25              1              Allen                4.0   \n",
       "4999             94.90              2            FIITJEE                2.1   \n",
       "\n",
       "     family_income parent_education location_type peer_pressure_level  \\\n",
       "0              Low        Upto 10th         Urban                 Low   \n",
       "1              Mid        Upto 10th         Urban                 Low   \n",
       "2              Low               PG    Semi-Urban              Medium   \n",
       "3              Low             12th    Semi-Urban              Medium   \n",
       "4              Mid         Graduate    Semi-Urban                High   \n",
       "...            ...              ...           ...                 ...   \n",
       "4995          High               PG    Semi-Urban                High   \n",
       "4996           Mid               PG         Urban                High   \n",
       "4997           Mid               PG    Semi-Urban              Medium   \n",
       "4998          High        Upto 10th         Urban                 Low   \n",
       "4999           Mid             12th         Urban                 Low   \n",
       "\n",
       "     mental_health_issues admission_taken  dropout  \n",
       "0                      No              No        1  \n",
       "1                     Yes              No        0  \n",
       "2                     Yes              No        1  \n",
       "3                     Yes             Yes        0  \n",
       "4                      No             Yes        0  \n",
       "...                   ...             ...      ...  \n",
       "4995                  Yes             Yes        0  \n",
       "4996                  Yes             Yes        0  \n",
       "4997                  Yes             Yes        0  \n",
       "4998                   No             Yes        0  \n",
       "4999                  Yes              No        0  \n",
       "\n",
       "[5000 rows x 15 columns]"
      ]
     },
     "execution_count": 92,
     "metadata": {},
     "output_type": "execute_result"
    }
   ],
   "source": [
    "jee = pd.read_csv('../Data/JEE_Dropout_After_Class_12.csv', delimiter=',')\n",
    "jee"
   ]
  },
  {
   "cell_type": "code",
   "execution_count": 93,
   "id": "523b110a",
   "metadata": {},
   "outputs": [
    {
     "name": "stdout",
     "output_type": "stream",
     "text": [
      "<class 'pandas.core.frame.DataFrame'>\n",
      "RangeIndex: 5000 entries, 0 to 4999\n",
      "Data columns (total 15 columns):\n",
      " #   Column                Non-Null Count  Dtype  \n",
      "---  ------                --------------  -----  \n",
      " 0   jee_main_score        5000 non-null   float64\n",
      " 1   jee_advanced_score    5000 non-null   float64\n",
      " 2   mock_test_score_avg   5000 non-null   float64\n",
      " 3   school_board          5000 non-null   object \n",
      " 4   class_12_percent      5000 non-null   float64\n",
      " 5   attempt_count         5000 non-null   int64  \n",
      " 6   coaching_institute    3791 non-null   object \n",
      " 7   daily_study_hours     5000 non-null   float64\n",
      " 8   family_income         5000 non-null   object \n",
      " 9   parent_education      5000 non-null   object \n",
      " 10  location_type         5000 non-null   object \n",
      " 11  peer_pressure_level   5000 non-null   object \n",
      " 12  mental_health_issues  5000 non-null   object \n",
      " 13  admission_taken       5000 non-null   object \n",
      " 14  dropout               5000 non-null   int64  \n",
      "dtypes: float64(5), int64(2), object(8)\n",
      "memory usage: 586.1+ KB\n"
     ]
    }
   ],
   "source": [
    "jee.info()"
   ]
  },
  {
   "cell_type": "code",
   "execution_count": 81,
   "id": "4fe0ecb5",
   "metadata": {},
   "outputs": [
    {
     "data": {
      "text/plain": [
       "<bound method NDFrame.describe of       jee_main_score  jee_advanced_score  mock_test_score_avg school_board  \\\n",
       "0              78.95               59.22                59.86         CBSE   \n",
       "1              70.06               58.75                64.33        State   \n",
       "2              81.07               37.27                60.83         ICSE   \n",
       "3              93.32               60.72                69.33         ICSE   \n",
       "4              68.72               77.73                82.37         CBSE   \n",
       "...              ...                 ...                  ...          ...   \n",
       "4995           71.31               86.82                57.08        State   \n",
       "4996           81.96               34.03                82.85         CBSE   \n",
       "4997          100.00               54.71                83.75         CBSE   \n",
       "4998           83.31               73.93                57.39         CBSE   \n",
       "4999           60.13               76.31                66.15        State   \n",
       "\n",
       "      class_12_percent  attempt_count coaching_institute  daily_study_hours  \\\n",
       "0                70.09              1            FIITJEE                5.4   \n",
       "1                78.00              1            FIITJEE                5.5   \n",
       "2                64.36              1            FIITJEE                7.0   \n",
       "3                73.21              1            FIITJEE                2.1   \n",
       "4                89.02              1              Allen                6.3   \n",
       "...                ...            ...                ...                ...   \n",
       "4995             84.45              1            FIITJEE                4.7   \n",
       "4996             73.02              2              Local                4.7   \n",
       "4997             77.87              2                NaN                6.3   \n",
       "4998             62.25              1              Allen                4.0   \n",
       "4999             94.90              2            FIITJEE                2.1   \n",
       "\n",
       "     family_income parent_education location_type peer_pressure_level  \\\n",
       "0              Low        Upto 10th         Urban                 Low   \n",
       "1              Mid        Upto 10th         Urban                 Low   \n",
       "2              Low               PG    Semi-Urban              Medium   \n",
       "3              Low             12th    Semi-Urban              Medium   \n",
       "4              Mid         Graduate    Semi-Urban                High   \n",
       "...            ...              ...           ...                 ...   \n",
       "4995          High               PG    Semi-Urban                High   \n",
       "4996           Mid               PG         Urban                High   \n",
       "4997           Mid               PG    Semi-Urban              Medium   \n",
       "4998          High        Upto 10th         Urban                 Low   \n",
       "4999           Mid             12th         Urban                 Low   \n",
       "\n",
       "     mental_health_issues admission_taken  dropout  \n",
       "0                      No              No        1  \n",
       "1                     Yes              No        0  \n",
       "2                     Yes              No        1  \n",
       "3                     Yes             Yes        0  \n",
       "4                      No             Yes        0  \n",
       "...                   ...             ...      ...  \n",
       "4995                  Yes             Yes        0  \n",
       "4996                  Yes             Yes        0  \n",
       "4997                  Yes             Yes        0  \n",
       "4998                   No             Yes        0  \n",
       "4999                  Yes              No        0  \n",
       "\n",
       "[5000 rows x 15 columns]>"
      ]
     },
     "execution_count": 81,
     "metadata": {},
     "output_type": "execute_result"
    }
   ],
   "source": [
    "jee.describe\n"
   ]
  },
  {
   "cell_type": "code",
   "execution_count": 82,
   "id": "8bf0af43",
   "metadata": {},
   "outputs": [
    {
     "data": {
      "text/plain": [
       "(5000, 15)"
      ]
     },
     "execution_count": 82,
     "metadata": {},
     "output_type": "execute_result"
    }
   ],
   "source": [
    "jee.shape"
   ]
  },
  {
   "cell_type": "code",
   "execution_count": 83,
   "id": "ce51dfaa",
   "metadata": {},
   "outputs": [
    {
     "data": {
      "text/plain": [
       "5000"
      ]
     },
     "execution_count": 83,
     "metadata": {},
     "output_type": "execute_result"
    }
   ],
   "source": [
    "jee.shape[0]\n"
   ]
  },
  {
   "cell_type": "markdown",
   "id": "c160e770",
   "metadata": {},
   "source": [
    "<p style=\"font-size: 27px\">\n",
    "Exploratory Data Analysis\n",
    "</p>\n",
    "<p style=\"font-size: 25px\">\n",
    "Using Cramer's V and chi2 Square method to find if there are any relations between columns with categorical values\n",
    "</p>"
   ]
  },
  {
   "cell_type": "markdown",
   "id": "0a7ea5de",
   "metadata": {},
   "source": [
    "<p style=\"font-size:25px\">\n",
    "Going with a common stereotype and comparing if <b>mental health issues</b> and <b>status of admission taken</b> influences if a student drops out of JEE prep \n",
    "</p>"
   ]
  },
  {
   "cell_type": "code",
   "execution_count": 84,
   "id": "29d41c4d",
   "metadata": {},
   "outputs": [
    {
     "data": {
      "image/png": "[encoded data removed]",
      "text/plain": [
       "<Figure size 1200x400 with 2 Axes>"
      ]
     },
     "metadata": {},
     "output_type": "display_data"
    }
   ],
   "source": [
    "fig, axes = plt.subplots(nrows=1, ncols=2, figsize=(12,4))\n",
    "\n",
    "sns.countplot(x='mental_health_issues', hue='dropout', data=jee, ax=axes[0])\n",
    "axes[0].set_title('Mental Health Issues vs Dropout Count')\n",
    "\n",
    "sns.barplot(x='mental_health_issues', y='dropout', data=jee, ax=axes[1])\n",
    "axes[1].set_title('Mental Health Issues vs Dropout Proportion')\n",
    "\n",
    "plt.tight_layout()\n",
    "plt.show()"
   ]
  },
  {
   "cell_type": "markdown",
   "id": "71874e01",
   "metadata": {},
   "source": [
    "<p style='font-size:20px'>\n",
    "Most students are continuing in their JEE prep even after suffering from mental health problems with over <b>2000</b> continuing without and close to <b>2000</b> continuing after suffering from mental illnesses \n",
    "Proportions confirm that mental illnesses do not play a major role in influencing student dropouts\n",
    "It seems that Mental Illnesses do not have a significant impact on student dropouts\n",
    "</p>\n",
    " "
   ]
  },
  {
   "cell_type": "code",
   "execution_count": 85,
   "id": "eb9faf2e",
   "metadata": {},
   "outputs": [
    {
     "data": {
      "image/png": "[encoded data removed]",
      "text/plain": [
       "<Figure size 1200x400 with 2 Axes>"
      ]
     },
     "metadata": {},
     "output_type": "display_data"
    }
   ],
   "source": [
    "fig, axes = plt.subplots(1, 2, figsize=(12,4))\n",
    "\n",
    "sns.barplot(x='admission_taken', y='dropout', data=jee, ax=axes[0])\n",
    "axes[0].set_title(\"Admission Taken vs Dropout Proportion\")\n",
    "\n",
    "sns.countplot(x=\"admission_taken\", hue=\"dropout\", data=jee, ax=axes[1])\n",
    "axes[1].set_title(\"Admission Taken vs Dropout Count\")\n",
    "\n",
    "plt.tight_layout()\n",
    "plt.show()"
   ]
  },
  {
   "cell_type": "code",
   "execution_count": 94,
   "id": "33779609",
   "metadata": {},
   "outputs": [
    {
     "name": "stdout",
     "output_type": "stream",
     "text": [
      "Chi-square Test p-value: 1.2035319233932514e-184\n"
     ]
    }
   ],
   "source": [
    "from scipy.stats import chi2_contingency\n",
    "import pandas as pd\n",
    "\n",
    "# Create a contingency table\n",
    "contingency = pd.crosstab(jee['admission_taken'], jee['dropout'])\n",
    "chi2, p, dof, expected = chi2_contingency(contingency)\n",
    "\n",
    "print(f\"Chi-square Test p-value: {p}\")"
   ]
  },
  {
   "cell_type": "code",
   "execution_count": 87,
   "id": "b7d483fe",
   "metadata": {},
   "outputs": [
    {
     "name": "stdout",
     "output_type": "stream",
     "text": [
      "Chi-square Test p-value: 0.4087327606376472\n"
     ]
    }
   ],
   "source": [
    "from scipy.stats import chi2_contingency\n",
    "import pandas as pd\n",
    "\n",
    "# Create a contingency table\n",
    "contingency = pd.crosstab(jee['mental_health_issues'], jee['dropout'])\n",
    "chi2, p, dof, expected = chi2_contingency(contingency)\n",
    "\n",
    "print(f\"Chi-square Test p-value: {p}\")"
   ]
  },
  {
   "cell_type": "code",
   "execution_count": 88,
   "id": "665d7f3e",
   "metadata": {},
   "outputs": [
    {
     "data": {
      "text/plain": [
       "0.00593157614978426"
      ]
     },
     "execution_count": 88,
     "metadata": {},
     "output_type": "execute_result"
    }
   ],
   "source": [
    "import pandas as pd\n",
    "import numpy as np\n",
    "from scipy.stats import chi2_contingency\n",
    "\n",
    "def cramers_v(x, y):\n",
    "    confusion_matrix = pd.crosstab(x, y)\n",
    "    chi2 = chi2_contingency(confusion_matrix)[0]\n",
    "    n = confusion_matrix.sum().sum()\n",
    "    phi2 = chi2 / n\n",
    "    r, k = confusion_matrix.shape\n",
    "    return np.sqrt(phi2 / min(k-1, r-1))\n",
    "\n",
    "# Example usage:\n",
    "cramers_v(jee['mental_health_issues'], jee['admission_taken'])"
   ]
  },
  {
   "cell_type": "code",
   "execution_count": 95,
   "id": "7758e477",
   "metadata": {},
   "outputs": [
    {
     "name": "stdout",
     "output_type": "stream",
     "text": [
      "                Feature  Cramer's V\n",
      "2         family_income    0.568243\n",
      "7       admission_taken    0.409625\n",
      "5   peer_pressure_level    0.084188\n",
      "1    coaching_institute    0.024870\n",
      "4         location_type    0.023056\n",
      "0          school_board    0.000000\n",
      "3      parent_education    0.000000\n",
      "6  mental_health_issues    0.000000\n"
     ]
    }
   ],
   "source": [
    "import pandas as pd\n",
    "import numpy as np\n",
    "from scipy.stats import chi2_contingency\n",
    "\n",
    "def cramers_v(x, y):\n",
    "    confusion_matrix = pd.crosstab(x, y)\n",
    "    chi2 = chi2_contingency(confusion_matrix)[0]\n",
    "    n = confusion_matrix.sum().sum()\n",
    "    phi2 = chi2 / n\n",
    "    r, k = confusion_matrix.shape\n",
    "    phi2corr = max(0, phi2 - ((k-1)*(r-1))/(n-1))    \n",
    "    rcorr = r - ((r-1)**2)/(n-1)\n",
    "    kcorr = k - ((k-1)**2)/(n-1)\n",
    "    return np.sqrt(phi2corr / min((kcorr-1), (rcorr-1)))\n",
    "\n",
    "results = []\n",
    "\n",
    "for col in jee.columns:\n",
    "    if col != 'dropout' and jee[col].dtype == 'object':  # Only categorical\n",
    "        try:\n",
    "            v = cramers_v(jee[col], jee['dropout'])\n",
    "            results.append((col, v))\n",
    "        except:\n",
    "            continue\n",
    "\n",
    "df_cramers = pd.DataFrame(results, columns=['Feature', \"Cramer's V\"]).sort_values(by=\"Cramer's V\", ascending=False)\n",
    "print(df_cramers)\n"
   ]
  },
  {
   "cell_type": "code",
   "execution_count": 104,
   "id": "a89782ad",
   "metadata": {},
   "outputs": [
    {
     "name": "stdout",
     "output_type": "stream",
     "text": [
      "\n",
      " Feature: jee_main_score\n",
      "Chi square p-value: 0.2054810036708812\n",
      "No Significant relationship\n",
      "\n",
      " Feature: jee_advanced_score\n",
      "Chi square p-value: 0.7866470247268562\n",
      "No Significant relationship\n",
      "\n",
      " Feature: mock_test_score_avg\n",
      "Chi square p-value: 0.47292898142439566\n",
      "No Significant relationship\n",
      "\n",
      " Feature: school_board\n",
      "Chi square p-value: 0.905274373764119\n",
      "No Significant relationship\n",
      "\n",
      " Feature: class_12_percent\n",
      "Chi square p-value: 0.2608158811316311\n",
      "No Significant relationship\n",
      "\n",
      " Feature: attempt_count\n",
      "Chi square p-value: 0.3919959148923229\n",
      "No Significant relationship\n",
      "\n",
      " Feature: coaching_institute\n",
      "Chi square p-value: 0.1139041870788369\n",
      "No Significant relationship\n",
      "\n",
      " Feature: daily_study_hours\n",
      "Chi square p-value: 5.7243048299453145e-24\n",
      "Statistically significant relationship\n",
      "Cramer's V: 0.20700128642136384\n",
      "\n",
      " Feature: family_income\n",
      "Chi square p-value: 0.0\n",
      "Statistically significant relationship\n",
      "Cramer's V: 0.5682427792825734\n",
      "\n",
      " Feature: parent_education\n",
      "Chi square p-value: 0.4716007938247422\n",
      "No Significant relationship\n",
      "\n",
      " Feature: location_type\n",
      "Chi square p-value: 0.09739993983482552\n",
      "No Significant relationship\n",
      "\n",
      " Feature: peer_pressure_level\n",
      "Chi square p-value: 7.445029907800231e-09\n",
      "Statistically significant relationship\n",
      "Cramer's V: 0.08418803628847979\n",
      "\n",
      " Feature: mental_health_issues\n",
      "Chi square p-value: 0.4087327606376472\n",
      "No Significant relationship\n",
      "\n",
      " Feature: admission_taken\n",
      "Chi square p-value: 1.2035319233932514e-184\n",
      "Statistically significant relationship\n",
      "Cramer's V: 0.40962453675646715\n"
     ]
    }
   ],
   "source": [
    "import scipy.stats as stats\n",
    "def cramers_v(confusion_matrix):\n",
    "  chi2 = stats.chi2_contingency(confusion_matrix)[0]\n",
    "  n = confusion_matrix.sum().sum()\n",
    "  phi2=chi2/n\n",
    "  r,k = confusion_matrix.shape\n",
    "  phi2corr = max(0, phi2 - ((k-1)*(r-1))/(n-1))\n",
    "  rcorr = r - ((r-1)**2)/(n-1)\n",
    "  kcorr = k - ((k-1)**2)/(n-1)\n",
    "  return np.sqrt(phi2corr/min((kcorr-1),(rcorr-1)))\n",
    "\n",
    "target = 'dropout'\n",
    "for col in jee.columns:\n",
    "  if col == target:\n",
    "    continue\n",
    "  try:\n",
    "    contingency = pd.crosstab(jee[col],jee[target])\n",
    "    chi2, p, dof, ex = stats.chi2_contingency(contingency)\n",
    "    cramer_v = cramers_v(contingency)\n",
    "    print(f\"\\n Feature: {col}\")\n",
    "    print(f\"Chi square p-value: {p}\")\n",
    "    \n",
    "    if p < 0.05:\n",
    "      print(f\"Statistically significant relationship\")\n",
    "      print(f\"Cramer's V: {cramer_v}\")\n",
    "    else:\n",
    "      print(f\"No Significant relationship\")\n",
    "  except Exception as e:\n",
    "    print(f\"Skipping {col} due to error: {e}\")"
   ]
  },
  {
   "cell_type": "code",
   "execution_count": 100,
   "id": "6e3acf1c",
   "metadata": {},
   "outputs": [
    {
     "name": "stdout",
     "output_type": "stream",
     "text": [
      "<class 'pandas.core.frame.DataFrame'>\n",
      "RangeIndex: 5000 entries, 0 to 4999\n",
      "Data columns (total 15 columns):\n",
      " #   Column                Non-Null Count  Dtype  \n",
      "---  ------                --------------  -----  \n",
      " 0   jee_main_score        5000 non-null   float64\n",
      " 1   jee_advanced_score    5000 non-null   float64\n",
      " 2   mock_test_score_avg   5000 non-null   float64\n",
      " 3   school_board          5000 non-null   object \n",
      " 4   class_12_percent      5000 non-null   float64\n",
      " 5   attempt_count         5000 non-null   int64  \n",
      " 6   coaching_institute    3791 non-null   object \n",
      " 7   daily_study_hours     5000 non-null   float64\n",
      " 8   family_income         5000 non-null   object \n",
      " 9   parent_education      5000 non-null   object \n",
      " 10  location_type         5000 non-null   object \n",
      " 11  peer_pressure_level   5000 non-null   object \n",
      " 12  mental_health_issues  5000 non-null   object \n",
      " 13  admission_taken       5000 non-null   object \n",
      " 14  dropout               5000 non-null   int64  \n",
      "dtypes: float64(5), int64(2), object(8)\n",
      "memory usage: 586.1+ KB\n"
     ]
    }
   ],
   "source": [
    "jee.info()"
   ]
  }
 ],
 "metadata": {
  "kernelspec": {
   "display_name": "base",
   "language": "python",
   "name": "python3"
  },
  "language_info": {
   "codemirror_mode": {
    "name": "ipython",
    "version": 3
   },
   "file_extension": ".py",
   "mimetype": "text/x-python",
   "name": "python",
   "nbconvert_exporter": "python",
   "pygments_lexer": "ipython3",
   "version": "3.12.4"
  }
 },
 "nbformat": 4,
 "nbformat_minor": 5
}

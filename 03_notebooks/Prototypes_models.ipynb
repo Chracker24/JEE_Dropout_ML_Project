{
 "cells": [
  {
   "cell_type": "markdown",
   "id": "3218609a",
   "metadata": {},
   "source": [
    "# Model Prototyping\n",
    "<p style=\"font-size:20px\">\n",
    "After the creation of a <b>Feature_Engineered.csv</b> that contains clean data with predictability power and also being tested on a RandomForestClassifier, I am going to use multiple models and compare their performance.\n",
    "</p>"
   ]
  },
  {
   "cell_type": "markdown",
   "id": "e603b84c",
   "metadata": {},
   "source": [
    "## Importing Libraries"
   ]
  },
  {
   "cell_type": "code",
   "execution_count": 38,
   "id": "296eeb60",
   "metadata": {},
   "outputs": [],
   "source": [
    "# Data Exploration\n",
    "import pandas as pd\n",
    "import numpy as np\n",
    "import matplotlib.pyplot as plt\n",
    "import seaborn as sns\n",
    "\n",
    "# Basic Models\n",
    "from sklearn.linear_model import LogisticRegression\n",
    "from sklearn.tree import DecisionTreeClassifier\n",
    "from sklearn.svm import SVC\n",
    "from sklearn.neighbors import KNeighborsClassifier\n",
    "\n",
    "#Ensemble Models\n",
    "from sklearn.ensemble import RandomForestClassifier, VotingClassifier\n",
    "\n",
    "# Boosting\n",
    "from xgboost import XGBClassifier\n",
    "from lightgbm import  LGBMClassifier\n",
    "\n",
    "#Evaluation\n",
    "from sklearn.model_selection import train_test_split, cross_val_score, StratifiedKFold\n",
    "from sklearn.metrics import f1_score, classification_report, confusion_matrix, roc_auc_score, precision_recall_curve\n",
    "\n",
    "#PreProcessing\n",
    "from  sklearn.preprocessing import StandardScaler\n",
    "from imblearn.over_sampling import SMOTE\n",
    "from imblearn.pipeline import Pipeline \n",
    "import shap"
   ]
  },
  {
   "cell_type": "code",
   "execution_count": 39,
   "id": "eae3218b",
   "metadata": {},
   "outputs": [],
   "source": [
    "#List of Models\n",
    "models = [\n",
    "  (\"Logistic Regression\", LogisticRegression()),\n",
    "  (\"Decision Tree\", DecisionTreeClassifier()),\n",
    "  (\"SVM\", SVC(probability=True)),\n",
    "  (\"K Nearest Neighbour\", KNeighborsClassifier()),\n",
    "  (\"Random Forest Classifier\", RandomForestClassifier()),\n",
    "  (\"XGBoost\",XGBClassifier()),\n",
    "  (\"LightGBM\", LGBMClassifier())\n",
    "]"
   ]
  },
  {
   "cell_type": "code",
   "execution_count": 40,
   "id": "7a019301",
   "metadata": {},
   "outputs": [],
   "source": [
    "#Evaluation function\n",
    "def evaluate_model(models, X_train, y_train, X_test, y_test):\n",
    "  results=[]\n",
    "  scaler = StandardScaler()\n",
    "  smote = SMOTE()\n",
    "  for name, model in models:\n",
    "    print(f\"\\n Name of Model: {name}\")\n",
    "    if name in [\"Logistic Regression\",\"SVM\", \"K Nearest Neighbour\"]:\n",
    "      X_train_scaled = scaler.fit_transform(X_train)\n",
    "      X_test_scaled = scaler.transform(X_test)\n",
    "      X_res, y_res = smote.fit_resample(X_train_scaled, y_train)\n",
    "      model.fit(X_res,y_res)\n",
    "      pred = model.predict(X_test_scaled)\n",
    "    else:\n",
    "      X_res, y_res = smote.fit_resample(X_train, y_train)\n",
    "      model.fit(X_res, y_res)\n",
    "      pred = model.predict(X_test)\n",
    "    \n",
    "    f1 = f1_score(y_test,pred)\n",
    "    results.append((name,f1))\n",
    "    print(classification_report(y_test, pred))\n",
    "    \n",
    "\n",
    "  return pd.DataFrame(results,columns=[\"Model\",\"F1 Score\"]).sort_values(by=\"F1 Score\",ascending=False)"
   ]
  },
  {
   "cell_type": "markdown",
   "id": "ca6caa47",
   "metadata": {},
   "source": [
    "# Reading the file "
   ]
  },
  {
   "cell_type": "code",
   "execution_count": 41,
   "id": "858727a6",
   "metadata": {},
   "outputs": [
    {
     "data": {
      "text/html": [
       "<div>\n",
       "<style scoped>\n",
       "    .dataframe tbody tr th:only-of-type {\n",
       "        vertical-align: middle;\n",
       "    }\n",
       "\n",
       "    .dataframe tbody tr th {\n",
       "        vertical-align: top;\n",
       "    }\n",
       "\n",
       "    .dataframe thead th {\n",
       "        text-align: right;\n",
       "    }\n",
       "</style>\n",
       "<table border=\"1\" class=\"dataframe\">\n",
       "  <thead>\n",
       "    <tr style=\"text-align: right;\">\n",
       "      <th></th>\n",
       "      <th>peer_focused_mh</th>\n",
       "      <th>PSxIA</th>\n",
       "      <th>daily_study_hours</th>\n",
       "      <th>location_type</th>\n",
       "      <th>Income vs Admission</th>\n",
       "      <th>family_income</th>\n",
       "      <th>parental_support</th>\n",
       "      <th>dropout</th>\n",
       "    </tr>\n",
       "  </thead>\n",
       "  <tbody>\n",
       "    <tr>\n",
       "      <th>0</th>\n",
       "      <td>0</td>\n",
       "      <td>0.00</td>\n",
       "      <td>5.4</td>\n",
       "      <td>2</td>\n",
       "      <td>0</td>\n",
       "      <td>0</td>\n",
       "      <td>1.62</td>\n",
       "      <td>1</td>\n",
       "    </tr>\n",
       "    <tr>\n",
       "      <th>1</th>\n",
       "      <td>1</td>\n",
       "      <td>1.65</td>\n",
       "      <td>5.5</td>\n",
       "      <td>2</td>\n",
       "      <td>1</td>\n",
       "      <td>1</td>\n",
       "      <td>1.65</td>\n",
       "      <td>0</td>\n",
       "    </tr>\n",
       "    <tr>\n",
       "      <th>2</th>\n",
       "      <td>3</td>\n",
       "      <td>0.00</td>\n",
       "      <td>7.0</td>\n",
       "      <td>1</td>\n",
       "      <td>0</td>\n",
       "      <td>0</td>\n",
       "      <td>2.70</td>\n",
       "      <td>1</td>\n",
       "    </tr>\n",
       "    <tr>\n",
       "      <th>3</th>\n",
       "      <td>3</td>\n",
       "      <td>2.49</td>\n",
       "      <td>2.1</td>\n",
       "      <td>1</td>\n",
       "      <td>3</td>\n",
       "      <td>0</td>\n",
       "      <td>0.83</td>\n",
       "      <td>0</td>\n",
       "    </tr>\n",
       "    <tr>\n",
       "      <th>4</th>\n",
       "      <td>4</td>\n",
       "      <td>9.16</td>\n",
       "      <td>6.3</td>\n",
       "      <td>1</td>\n",
       "      <td>4</td>\n",
       "      <td>1</td>\n",
       "      <td>2.29</td>\n",
       "      <td>0</td>\n",
       "    </tr>\n",
       "  </tbody>\n",
       "</table>\n",
       "</div>"
      ],
      "text/plain": [
       "   peer_focused_mh  PSxIA  daily_study_hours  location_type  \\\n",
       "0                0   0.00                5.4              2   \n",
       "1                1   1.65                5.5              2   \n",
       "2                3   0.00                7.0              1   \n",
       "3                3   2.49                2.1              1   \n",
       "4                4   9.16                6.3              1   \n",
       "\n",
       "   Income vs Admission  family_income  parental_support  dropout  \n",
       "0                    0              0              1.62        1  \n",
       "1                    1              1              1.65        0  \n",
       "2                    0              0              2.70        1  \n",
       "3                    3              0              0.83        0  \n",
       "4                    4              1              2.29        0  "
      ]
     },
     "execution_count": 41,
     "metadata": {},
     "output_type": "execute_result"
    }
   ],
   "source": [
    "jee = pd.read_csv(\"../Data/Feature_Engineered.csv\", delimiter=\",\")\n",
    "jee.head()"
   ]
  },
  {
   "cell_type": "markdown",
   "id": "8d44926e",
   "metadata": {},
   "source": [
    "# Creating X_train, X_test, y_train, y_test"
   ]
  },
  {
   "cell_type": "code",
   "execution_count": 42,
   "id": "5f7f28be",
   "metadata": {},
   "outputs": [
    {
     "data": {
      "text/html": [
       "<div>\n",
       "<style scoped>\n",
       "    .dataframe tbody tr th:only-of-type {\n",
       "        vertical-align: middle;\n",
       "    }\n",
       "\n",
       "    .dataframe tbody tr th {\n",
       "        vertical-align: top;\n",
       "    }\n",
       "\n",
       "    .dataframe thead th {\n",
       "        text-align: right;\n",
       "    }\n",
       "</style>\n",
       "<table border=\"1\" class=\"dataframe\">\n",
       "  <thead>\n",
       "    <tr style=\"text-align: right;\">\n",
       "      <th></th>\n",
       "      <th>peer_focused_mh</th>\n",
       "      <th>PSxIA</th>\n",
       "      <th>daily_study_hours</th>\n",
       "      <th>location_type</th>\n",
       "      <th>Income vs Admission</th>\n",
       "      <th>family_income</th>\n",
       "      <th>parental_support</th>\n",
       "      <th>dropout</th>\n",
       "    </tr>\n",
       "  </thead>\n",
       "  <tbody>\n",
       "    <tr>\n",
       "      <th>0</th>\n",
       "      <td>0</td>\n",
       "      <td>0.00</td>\n",
       "      <td>5.4</td>\n",
       "      <td>2</td>\n",
       "      <td>0</td>\n",
       "      <td>0</td>\n",
       "      <td>1.62</td>\n",
       "      <td>1</td>\n",
       "    </tr>\n",
       "    <tr>\n",
       "      <th>1</th>\n",
       "      <td>1</td>\n",
       "      <td>1.65</td>\n",
       "      <td>5.5</td>\n",
       "      <td>2</td>\n",
       "      <td>1</td>\n",
       "      <td>1</td>\n",
       "      <td>1.65</td>\n",
       "      <td>0</td>\n",
       "    </tr>\n",
       "    <tr>\n",
       "      <th>2</th>\n",
       "      <td>3</td>\n",
       "      <td>0.00</td>\n",
       "      <td>7.0</td>\n",
       "      <td>1</td>\n",
       "      <td>0</td>\n",
       "      <td>0</td>\n",
       "      <td>2.70</td>\n",
       "      <td>1</td>\n",
       "    </tr>\n",
       "    <tr>\n",
       "      <th>3</th>\n",
       "      <td>3</td>\n",
       "      <td>2.49</td>\n",
       "      <td>2.1</td>\n",
       "      <td>1</td>\n",
       "      <td>3</td>\n",
       "      <td>0</td>\n",
       "      <td>0.83</td>\n",
       "      <td>0</td>\n",
       "    </tr>\n",
       "    <tr>\n",
       "      <th>4</th>\n",
       "      <td>4</td>\n",
       "      <td>9.16</td>\n",
       "      <td>6.3</td>\n",
       "      <td>1</td>\n",
       "      <td>4</td>\n",
       "      <td>1</td>\n",
       "      <td>2.29</td>\n",
       "      <td>0</td>\n",
       "    </tr>\n",
       "  </tbody>\n",
       "</table>\n",
       "</div>"
      ],
      "text/plain": [
       "   peer_focused_mh  PSxIA  daily_study_hours  location_type  \\\n",
       "0                0   0.00                5.4              2   \n",
       "1                1   1.65                5.5              2   \n",
       "2                3   0.00                7.0              1   \n",
       "3                3   2.49                2.1              1   \n",
       "4                4   9.16                6.3              1   \n",
       "\n",
       "   Income vs Admission  family_income  parental_support  dropout  \n",
       "0                    0              0              1.62        1  \n",
       "1                    1              1              1.65        0  \n",
       "2                    0              0              2.70        1  \n",
       "3                    3              0              0.83        0  \n",
       "4                    4              1              2.29        0  "
      ]
     },
     "execution_count": 42,
     "metadata": {},
     "output_type": "execute_result"
    }
   ],
   "source": [
    "jee.head()"
   ]
  },
  {
   "cell_type": "code",
   "execution_count": 43,
   "id": "d5021ae5",
   "metadata": {},
   "outputs": [],
   "source": [
    "X = jee.drop([\"dropout\",\"Income vs Admission\"], axis=1)\n",
    "Y = jee['dropout']\n",
    "\n",
    "X_train, X_test, y_train, y_test = train_test_split(X, Y, test_size=0.2, random_state=42, stratify = Y)"
   ]
  },
  {
   "cell_type": "markdown",
   "id": "33b38ed8",
   "metadata": {},
   "source": [
    "# Evaluating the model with the Evaluation function described earlier"
   ]
  },
  {
   "cell_type": "code",
   "execution_count": 44,
   "id": "7e1706b0",
   "metadata": {},
   "outputs": [
    {
     "name": "stdout",
     "output_type": "stream",
     "text": [
      "\n",
      " Name of Model: Logistic Regression\n",
      "              precision    recall  f1-score   support\n",
      "\n",
      "           0       0.98      0.90      0.94       793\n",
      "           1       0.72      0.94      0.81       207\n",
      "\n",
      "    accuracy                           0.91      1000\n",
      "   macro avg       0.85      0.92      0.88      1000\n",
      "weighted avg       0.93      0.91      0.92      1000\n",
      "\n",
      "\n",
      " Name of Model: Decision Tree\n",
      "              precision    recall  f1-score   support\n",
      "\n",
      "           0       0.99      0.99      0.99       793\n",
      "           1       0.98      0.98      0.98       207\n",
      "\n",
      "    accuracy                           0.99      1000\n",
      "   macro avg       0.99      0.99      0.99      1000\n",
      "weighted avg       0.99      0.99      0.99      1000\n",
      "\n",
      "\n",
      " Name of Model: SVM\n",
      "              precision    recall  f1-score   support\n",
      "\n",
      "           0       0.99      0.98      0.99       793\n",
      "           1       0.92      0.98      0.95       207\n",
      "\n",
      "    accuracy                           0.98      1000\n",
      "   macro avg       0.96      0.98      0.97      1000\n",
      "weighted avg       0.98      0.98      0.98      1000\n",
      "\n",
      "\n",
      " Name of Model: K Nearest Neighbour\n",
      "              precision    recall  f1-score   support\n",
      "\n",
      "           0       0.99      0.98      0.99       793\n",
      "           1       0.93      0.97      0.95       207\n",
      "\n",
      "    accuracy                           0.98      1000\n",
      "   macro avg       0.96      0.97      0.97      1000\n",
      "weighted avg       0.98      0.98      0.98      1000\n",
      "\n",
      "\n",
      " Name of Model: Random Forest Classifier\n",
      "              precision    recall  f1-score   support\n",
      "\n",
      "           0       0.99      1.00      1.00       793\n",
      "           1       1.00      0.98      0.99       207\n",
      "\n",
      "    accuracy                           1.00      1000\n",
      "   macro avg       1.00      0.99      0.99      1000\n",
      "weighted avg       1.00      1.00      1.00      1000\n",
      "\n",
      "\n",
      " Name of Model: XGBoost\n",
      "              precision    recall  f1-score   support\n",
      "\n",
      "           0       0.99      1.00      1.00       793\n",
      "           1       1.00      0.98      0.99       207\n",
      "\n",
      "    accuracy                           0.99      1000\n",
      "   macro avg       1.00      0.99      0.99      1000\n",
      "weighted avg       1.00      0.99      0.99      1000\n",
      "\n",
      "\n",
      " Name of Model: LightGBM\n",
      "[LightGBM] [Info] Number of positive: 3171, number of negative: 3171\n",
      "[LightGBM] [Info] Auto-choosing row-wise multi-threading, the overhead of testing was 0.000326 seconds.\n",
      "You can set `force_row_wise=true` to remove the overhead.\n",
      "And if memory is not enough, you can set `force_col_wise=true`.\n",
      "[LightGBM] [Info] Total Bins 773\n",
      "[LightGBM] [Info] Number of data points in the train set: 6342, number of used features: 6\n",
      "[LightGBM] [Info] [binary:BoostFromScore]: pavg=0.500000 -> initscore=0.000000\n",
      "              precision    recall  f1-score   support\n",
      "\n",
      "           0       0.99      1.00      1.00       793\n",
      "           1       1.00      0.98      0.99       207\n",
      "\n",
      "    accuracy                           0.99      1000\n",
      "   macro avg       1.00      0.99      0.99      1000\n",
      "weighted avg       1.00      0.99      0.99      1000\n",
      "\n"
     ]
    },
    {
     "data": {
      "text/html": [
       "<div>\n",
       "<style scoped>\n",
       "    .dataframe tbody tr th:only-of-type {\n",
       "        vertical-align: middle;\n",
       "    }\n",
       "\n",
       "    .dataframe tbody tr th {\n",
       "        vertical-align: top;\n",
       "    }\n",
       "\n",
       "    .dataframe thead th {\n",
       "        text-align: right;\n",
       "    }\n",
       "</style>\n",
       "<table border=\"1\" class=\"dataframe\">\n",
       "  <thead>\n",
       "    <tr style=\"text-align: right;\">\n",
       "      <th></th>\n",
       "      <th>Model</th>\n",
       "      <th>F1 Score</th>\n",
       "    </tr>\n",
       "  </thead>\n",
       "  <tbody>\n",
       "    <tr>\n",
       "      <th>4</th>\n",
       "      <td>Random Forest Classifier</td>\n",
       "      <td>0.990244</td>\n",
       "    </tr>\n",
       "    <tr>\n",
       "      <th>5</th>\n",
       "      <td>XGBoost</td>\n",
       "      <td>0.987835</td>\n",
       "    </tr>\n",
       "    <tr>\n",
       "      <th>6</th>\n",
       "      <td>LightGBM</td>\n",
       "      <td>0.987835</td>\n",
       "    </tr>\n",
       "    <tr>\n",
       "      <th>1</th>\n",
       "      <td>Decision Tree</td>\n",
       "      <td>0.980676</td>\n",
       "    </tr>\n",
       "    <tr>\n",
       "      <th>2</th>\n",
       "      <td>SVM</td>\n",
       "      <td>0.948598</td>\n",
       "    </tr>\n",
       "    <tr>\n",
       "      <th>3</th>\n",
       "      <td>K Nearest Neighbour</td>\n",
       "      <td>0.947867</td>\n",
       "    </tr>\n",
       "    <tr>\n",
       "      <th>0</th>\n",
       "      <td>Logistic Regression</td>\n",
       "      <td>0.814196</td>\n",
       "    </tr>\n",
       "  </tbody>\n",
       "</table>\n",
       "</div>"
      ],
      "text/plain": [
       "                      Model  F1 Score\n",
       "4  Random Forest Classifier  0.990244\n",
       "5                   XGBoost  0.987835\n",
       "6                  LightGBM  0.987835\n",
       "1             Decision Tree  0.980676\n",
       "2                       SVM  0.948598\n",
       "3       K Nearest Neighbour  0.947867\n",
       "0       Logistic Regression  0.814196"
      ]
     },
     "execution_count": 44,
     "metadata": {},
     "output_type": "execute_result"
    }
   ],
   "source": [
    "evaluate_model(models, X_train, y_train, X_test, y_test)    #Calling the evaluation function"
   ]
  },
  {
   "cell_type": "markdown",
   "id": "442ea944",
   "metadata": {},
   "source": [
    "<p style='font_size: 20px'>\n",
    "It seems that ensemble models such as Random Forest Classifier, XG Boost and LightGBM are better suited for the JEE Dropout dataset and features\n",
    "</p>"
   ]
  },
  {
   "cell_type": "markdown",
   "id": "a32b46bb",
   "metadata": {},
   "source": [
    "# Checking the Cross Validation scores of the top 3 models "
   ]
  },
  {
   "cell_type": "code",
   "execution_count": 45,
   "id": "84133f29",
   "metadata": {},
   "outputs": [
    {
     "name": "stdout",
     "output_type": "stream",
     "text": [
      "\n",
      " Cross Validation for Random Forest Classifier\n",
      "F1 score: 0.9890 (+/- 0.0031)\n",
      "\n",
      " Cross Validation for XGBoost\n",
      "F1 score: 0.9872 (+/- 0.0041)\n",
      "\n",
      " Cross Validation for LightGBM\n",
      "[LightGBM] [Info] Number of positive: 663, number of negative: 2537\n",
      "[LightGBM] [Info] Auto-choosing col-wise multi-threading, the overhead of testing was 0.000163 seconds.\n",
      "You can set `force_col_wise=true` to remove the overhead.\n",
      "[LightGBM] [Info] Total Bins 618\n",
      "[LightGBM] [Info] Number of data points in the train set: 3200, number of used features: 6\n",
      "[LightGBM] [Info] [binary:BoostFromScore]: pavg=0.207187 -> initscore=-1.341963\n",
      "[LightGBM] [Info] Start training from score -1.341963\n",
      "[LightGBM] [Info] Number of positive: 663, number of negative: 2537\n",
      "[LightGBM] [Info] Auto-choosing col-wise multi-threading, the overhead of testing was 0.000172 seconds.\n",
      "You can set `force_col_wise=true` to remove the overhead.\n",
      "[LightGBM] [Info] Total Bins 618\n",
      "[LightGBM] [Info] Number of data points in the train set: 3200, number of used features: 6\n",
      "[LightGBM] [Info] [binary:BoostFromScore]: pavg=0.207187 -> initscore=-1.341963\n",
      "[LightGBM] [Info] Start training from score -1.341963\n",
      "[LightGBM] [Info] Number of positive: 663, number of negative: 2537\n",
      "[LightGBM] [Info] Auto-choosing col-wise multi-threading, the overhead of testing was 0.000161 seconds.\n",
      "You can set `force_col_wise=true` to remove the overhead.\n",
      "[LightGBM] [Info] Total Bins 618\n",
      "[LightGBM] [Info] Number of data points in the train set: 3200, number of used features: 6\n",
      "[LightGBM] [Info] [binary:BoostFromScore]: pavg=0.207187 -> initscore=-1.341963\n",
      "[LightGBM] [Info] Start training from score -1.341963\n",
      "[LightGBM] [Warning] No further splits with positive gain, best gain: -inf\n",
      "[LightGBM] [Warning] No further splits with positive gain, best gain: -inf\n",
      "[LightGBM] [Warning] No further splits with positive gain, best gain: -inf\n",
      "[LightGBM] [Warning] No further splits with positive gain, best gain: -inf\n",
      "[LightGBM] [Warning] No further splits with positive gain, best gain: -inf\n",
      "[LightGBM] [Info] Number of positive: 663, number of negative: 2537\n",
      "[LightGBM] [Info] Auto-choosing col-wise multi-threading, the overhead of testing was 0.000149 seconds.\n",
      "You can set `force_col_wise=true` to remove the overhead.\n",
      "[LightGBM] [Info] Total Bins 621\n",
      "[LightGBM] [Info] Number of data points in the train set: 3200, number of used features: 6\n",
      "[LightGBM] [Info] [binary:BoostFromScore]: pavg=0.207187 -> initscore=-1.341963\n",
      "[LightGBM] [Info] Start training from score -1.341963\n",
      "[LightGBM] [Info] Number of positive: 664, number of negative: 2536\n",
      "[LightGBM] [Info] Auto-choosing col-wise multi-threading, the overhead of testing was 0.000175 seconds.\n",
      "You can set `force_col_wise=true` to remove the overhead.\n",
      "[LightGBM] [Info] Total Bins 620\n",
      "[LightGBM] [Info] Number of data points in the train set: 3200, number of used features: 6\n",
      "[LightGBM] [Info] [binary:BoostFromScore]: pavg=0.207500 -> initscore=-1.340061\n",
      "[LightGBM] [Info] Start training from score -1.340061\n",
      "F1 score: 0.9885 (+/- 0.0035)\n"
     ]
    }
   ],
   "source": [
    "cv = StratifiedKFold(n_splits=5, shuffle=True, random_state=42)                     \n",
    "\n",
    "for name, model in models:\n",
    "  if name in [\"Random Forest Classifier\", \"XGBoost\", \"LightGBM\"]:\n",
    "    print(f\"\\n Cross Validation for {name}\")\n",
    "    scores = cross_val_score(model, X_train, y_train, cv=cv, scoring=\"f1\")\n",
    "    print(f\"F1 score: {scores.mean():.4f} (+/- {scores.std():.4f})\")"
   ]
  },
  {
   "cell_type": "markdown",
   "id": "491b22b9",
   "metadata": {},
   "source": [
    "# Hyper Parameter tuning \n",
    "<p style='font-size:20px'>\n",
    "for finding the best conditions for the top 3 models to find the best model performance\n",
    "</p>"
   ]
  },
  {
   "cell_type": "markdown",
   "id": "371d4e96",
   "metadata": {},
   "source": [
    "## Random Forest Classifier"
   ]
  },
  {
   "cell_type": "code",
   "execution_count": 46,
   "id": "f9351f61",
   "metadata": {},
   "outputs": [
    {
     "name": "stdout",
     "output_type": "stream",
     "text": [
      "Fitting 3 folds for each of 24 candidates, totalling 72 fits\n",
      "Best params: {'max_depth': None, 'min_samples_leaf': 2, 'min_samples_split': 5, 'n_estimators': 100}\n",
      "Best F1 Score: 0.9902720353453113\n"
     ]
    }
   ],
   "source": [
    "from sklearn.model_selection import GridSearchCV\n",
    "\n",
    "param_grid = {\n",
    "    'n_estimators': [100, 200],\n",
    "    'max_depth': [None, 10, 20],\n",
    "    'min_samples_split': [2, 5],\n",
    "    'min_samples_leaf': [1, 2]\n",
    "}\n",
    "\n",
    "grid_search_rf = GridSearchCV(RandomForestClassifier(random_state=42), param_grid, scoring='f1', cv=3, n_jobs=-1, verbose=1)\n",
    "\n",
    "grid_search_rf.fit(X_train, y_train)\n",
    "\n",
    "print(\"Best params:\", grid_search_rf.best_params_)\n",
    "print(\"Best F1 Score:\", grid_search_rf.best_score_)\n"
   ]
  },
  {
   "cell_type": "markdown",
   "id": "8171ad4c",
   "metadata": {},
   "source": [
    "## XG Boost"
   ]
  },
  {
   "cell_type": "code",
   "execution_count": 47,
   "id": "ff594945",
   "metadata": {},
   "outputs": [
    {
     "name": "stdout",
     "output_type": "stream",
     "text": [
      "Fitting 3 folds for each of 24 candidates, totalling 72 fits\n",
      "Best params: {'max_depth': None, 'min_samples_leaf': 1, 'min_samples_split': 2, 'n_estimators': 100}\n",
      "Best F1 Score: 0.9866466507830557\n"
     ]
    },
    {
     "name": "stderr",
     "output_type": "stream",
     "text": [
      "c:\\Users\\chrch\\AppData\\Local\\Programs\\Python\\Python311\\Lib\\site-packages\\xgboost\\training.py:183: UserWarning: [19:41:43] WARNING: C:\\actions-runner\\_work\\xgboost\\xgboost\\src\\learner.cc:738: \n",
      "Parameters: { \"min_samples_leaf\", \"min_samples_split\" } are not used.\n",
      "\n",
      "  bst.update(dtrain, iteration=i, fobj=obj)\n"
     ]
    }
   ],
   "source": [
    "from sklearn.model_selection import GridSearchCV\n",
    "\n",
    "param_grid = {\n",
    "    'n_estimators': [100, 200],\n",
    "    'max_depth': [None, 10, 20],\n",
    "    'min_samples_split': [2, 5],\n",
    "    'min_samples_leaf': [1, 2]\n",
    "}\n",
    "\n",
    "grid_search_rf = GridSearchCV(XGBClassifier(random_state=42), param_grid, scoring='f1', cv=3, n_jobs=-1, verbose=1)\n",
    "\n",
    "grid_search_rf.fit(X_train, y_train)\n",
    "\n",
    "print(\"Best params:\", grid_search_rf.best_params_)\n",
    "print(\"Best F1 Score:\", grid_search_rf.best_score_)\n"
   ]
  },
  {
   "cell_type": "markdown",
   "id": "8772326f",
   "metadata": {},
   "source": [
    "## Light GBM"
   ]
  },
  {
   "cell_type": "code",
   "execution_count": 48,
   "id": "a41322a7",
   "metadata": {},
   "outputs": [
    {
     "name": "stdout",
     "output_type": "stream",
     "text": [
      "Fitting 3 folds for each of 24 candidates, totalling 72 fits\n",
      "[LightGBM] [Warning] min_data_in_leaf is set with min_child_samples=20, will be overridden by min_samples_leaf=2. Current value: min_data_in_leaf=2\n",
      "[LightGBM] [Warning] Unknown parameter: min_samples_split\n",
      "[LightGBM] [Warning] min_data_in_leaf is set with min_child_samples=20, will be overridden by min_samples_leaf=2. Current value: min_data_in_leaf=2\n",
      "[LightGBM] [Warning] Unknown parameter: min_samples_split\n",
      "[LightGBM] [Info] Number of positive: 829, number of negative: 3171\n",
      "[LightGBM] [Info] Auto-choosing col-wise multi-threading, the overhead of testing was 0.000460 seconds.\n",
      "You can set `force_col_wise=true` to remove the overhead.\n",
      "[LightGBM] [Info] Total Bins 621\n",
      "[LightGBM] [Info] Number of data points in the train set: 4000, number of used features: 6\n",
      "[LightGBM] [Info] [binary:BoostFromScore]: pavg=0.207250 -> initscore=-1.341582\n",
      "[LightGBM] [Info] Start training from score -1.341582\n",
      "Best params: {'max_depth': 10, 'min_samples_leaf': 2, 'min_samples_split': 2, 'n_estimators': 100}\n",
      "Best F1 Score: 0.9866754540736272\n"
     ]
    }
   ],
   "source": [
    "from sklearn.model_selection import GridSearchCV\n",
    "\n",
    "param_grid = {\n",
    "    'n_estimators': [100, 200],\n",
    "    'max_depth': [None, 10, 20],\n",
    "    'min_samples_split': [2, 5],\n",
    "    'min_samples_leaf': [1, 2]\n",
    "}\n",
    "\n",
    "grid_search_rf = GridSearchCV(LGBMClassifier(random_state=42), param_grid, scoring='f1', cv=3, n_jobs=-1, verbose=1)\n",
    "\n",
    "grid_search_rf.fit(X_train, y_train)\n",
    "\n",
    "print(\"Best params:\", grid_search_rf.best_params_)\n",
    "print(\"Best F1 Score:\", grid_search_rf.best_score_)\n"
   ]
  },
  {
   "cell_type": "markdown",
   "id": "2cb4e653",
   "metadata": {},
   "source": [
    "## Shap \n",
    "<p style='font-size:20px'>\n",
    "for Feature importance\n",
    "</p>"
   ]
  },
  {
   "cell_type": "code",
   "execution_count": 49,
   "id": "19b56761",
   "metadata": {},
   "outputs": [
    {
     "data": {
      "image/png": "[encoded data removed]",
      "text/plain": [
       "<Figure size 800x390 with 2 Axes>"
      ]
     },
     "metadata": {},
     "output_type": "display_data"
    }
   ],
   "source": [
    "import shap\n",
    "\n",
    "# Fit model\n",
    "rf_model = RandomForestClassifier().fit(X_train, y_train)\n",
    "# Explain predictions\n",
    "explainer = shap.TreeExplainer(rf_model)\n",
    "shap_values = explainer.shap_values(X_train)\n",
    "# Plot\n",
    "shap.summary_plot(shap_values[...,1], X_train)  # class 1\n"
   ]
  },
  {
   "cell_type": "markdown",
   "id": "4d47d659",
   "metadata": {},
   "source": [
    "# Voting Classifier combining RandomForestClassifier, XGBClassifier, LGBMClassifier\n",
    "<p style='font-size:20px'>\n",
    "comparing Voting Classifier with Random Forest Classifier which currently is the best performing model\n",
    "</p>"
   ]
  },
  {
   "cell_type": "code",
   "execution_count": 50,
   "id": "51346509",
   "metadata": {},
   "outputs": [
    {
     "name": "stdout",
     "output_type": "stream",
     "text": [
      "              precision    recall  f1-score   support\n",
      "\n",
      "           0       0.99      1.00      1.00       793\n",
      "           1       1.00      0.98      0.99       207\n",
      "\n",
      "    accuracy                           1.00      1000\n",
      "   macro avg       1.00      0.99      0.99      1000\n",
      "weighted avg       1.00      1.00      1.00      1000\n",
      "\n",
      "[LightGBM] [Info] Number of positive: 829, number of negative: 3171\n",
      "[LightGBM] [Info] Auto-choosing col-wise multi-threading, the overhead of testing was 0.000183 seconds.\n",
      "You can set `force_col_wise=true` to remove the overhead.\n",
      "[LightGBM] [Info] Total Bins 621\n",
      "[LightGBM] [Info] Number of data points in the train set: 4000, number of used features: 6\n",
      "[LightGBM] [Info] [binary:BoostFromScore]: pavg=0.207250 -> initscore=-1.341582\n",
      "[LightGBM] [Info] Start training from score -1.341582\n",
      "              precision    recall  f1-score   support\n",
      "\n",
      "           0       0.99      1.00      1.00       793\n",
      "           1       1.00      0.98      0.99       207\n",
      "\n",
      "    accuracy                           1.00      1000\n",
      "   macro avg       1.00      0.99      0.99      1000\n",
      "weighted avg       1.00      1.00      1.00      1000\n",
      "\n"
     ]
    }
   ],
   "source": [
    "rmodel = RandomForestClassifier().fit(X_train, y_train)\n",
    "predr = rmodel.predict(X_test)\n",
    "print(classification_report(y_test, predr))\n",
    "\n",
    "voting_clf = VotingClassifier(estimators=[\n",
    "  ('rf', RandomForestClassifier(random_state=42)),\n",
    "  ('xgb', XGBClassifier(random_state=42)),\n",
    "  ('lgbm', LGBMClassifier(random_state=42))\n",
    "], voting='soft')\n",
    "\n",
    "voting_clf.fit(X_train, y_train)\n",
    "pred = voting_clf.predict(X_test)\n",
    "print(classification_report(y_test, pred))"
   ]
  },
  {
   "cell_type": "markdown",
   "id": "a5f37faa",
   "metadata": {},
   "source": [
    "## Cross Validation Score of the Voting Classifier"
   ]
  },
  {
   "cell_type": "code",
   "execution_count": 51,
   "id": "c08a69cd",
   "metadata": {},
   "outputs": [
    {
     "name": "stdout",
     "output_type": "stream",
     "text": [
      "[LightGBM] [Info] Number of positive: 663, number of negative: 2537\n",
      "[LightGBM] [Info] Auto-choosing col-wise multi-threading, the overhead of testing was 0.000181 seconds.\n",
      "You can set `force_col_wise=true` to remove the overhead.\n",
      "[LightGBM] [Info] Total Bins 618\n",
      "[LightGBM] [Info] Number of data points in the train set: 3200, number of used features: 6\n",
      "[LightGBM] [Info] [binary:BoostFromScore]: pavg=0.207187 -> initscore=-1.341963\n",
      "[LightGBM] [Info] Start training from score -1.341963\n",
      "[LightGBM] [Info] Number of positive: 663, number of negative: 2537\n",
      "[LightGBM] [Info] Auto-choosing col-wise multi-threading, the overhead of testing was 0.000298 seconds.\n",
      "You can set `force_col_wise=true` to remove the overhead.\n",
      "[LightGBM] [Info] Total Bins 620\n",
      "[LightGBM] [Info] Number of data points in the train set: 3200, number of used features: 6\n",
      "[LightGBM] [Info] [binary:BoostFromScore]: pavg=0.207187 -> initscore=-1.341963\n",
      "[LightGBM] [Info] Start training from score -1.341963\n",
      "[LightGBM] [Warning] No further splits with positive gain, best gain: -inf\n",
      "[LightGBM] [Warning] No further splits with positive gain, best gain: -inf\n",
      "[LightGBM] [Warning] No further splits with positive gain, best gain: -inf\n",
      "[LightGBM] [Info] Number of positive: 663, number of negative: 2537\n",
      "[LightGBM] [Info] Auto-choosing col-wise multi-threading, the overhead of testing was 0.000193 seconds.\n",
      "You can set `force_col_wise=true` to remove the overhead.\n",
      "[LightGBM] [Info] Total Bins 619\n",
      "[LightGBM] [Info] Number of data points in the train set: 3200, number of used features: 6\n",
      "[LightGBM] [Info] [binary:BoostFromScore]: pavg=0.207187 -> initscore=-1.341963\n",
      "[LightGBM] [Info] Start training from score -1.341963\n",
      "[LightGBM] [Warning] No further splits with positive gain, best gain: -inf\n",
      "[LightGBM] [Info] Number of positive: 663, number of negative: 2537\n",
      "[LightGBM] [Info] Auto-choosing col-wise multi-threading, the overhead of testing was 0.000249 seconds.\n",
      "You can set `force_col_wise=true` to remove the overhead.\n",
      "[LightGBM] [Info] Total Bins 618\n",
      "[LightGBM] [Info] Number of data points in the train set: 3200, number of used features: 6\n",
      "[LightGBM] [Info] [binary:BoostFromScore]: pavg=0.207187 -> initscore=-1.341963\n",
      "[LightGBM] [Info] Start training from score -1.341963\n",
      "[LightGBM] [Info] Number of positive: 664, number of negative: 2536\n",
      "[LightGBM] [Info] Auto-choosing col-wise multi-threading, the overhead of testing was 0.000162 seconds.\n",
      "You can set `force_col_wise=true` to remove the overhead.\n",
      "[LightGBM] [Info] Total Bins 616\n",
      "[LightGBM] [Info] Number of data points in the train set: 3200, number of used features: 6\n",
      "[LightGBM] [Info] [binary:BoostFromScore]: pavg=0.207500 -> initscore=-1.340061\n",
      "[LightGBM] [Info] Start training from score -1.340061\n",
      "[LightGBM] [Warning] No further splits with positive gain, best gain: -inf\n",
      "[LightGBM] [Warning] No further splits with positive gain, best gain: -inf\n",
      "Cross-validated F1: 0.9878 (+/- 0.0092)\n"
     ]
    }
   ],
   "source": [
    "from sklearn.model_selection import cross_val_score\n",
    "\n",
    "scores = cross_val_score(voting_clf, X_train, y_train, cv=5, scoring='f1')\n",
    "print(f\"Cross-validated F1: {scores.mean():.4f} (+/- {scores.std():.4f})\")"
   ]
  },
  {
   "cell_type": "markdown",
   "id": "6b0358da",
   "metadata": {},
   "source": [
    "<p style='font-size: 25px'>\n",
    "From all the Prototype models used on the data, we saw that <b>Ensemble models such as RandomForestClassifier, XG Boost Classifier and Light GBM Classifier</b> performed best. After comparing Random Forest Classifier, the best performing model, with the Voting Classifier which combined the 3 ensemble models said, I concluded that <b style='font-size: 27px'>Random Forest Classifier</b> is the best model to go forward with due to its <b>easy interpretability, use and faster speed</b>.\n",
    "</p>"
   ]
  }
 ],
 "metadata": {
  "kernelspec": {
   "display_name": "Python (working)",
   "language": "python",
   "name": "myenv"
  },
  "language_info": {
   "codemirror_mode": {
    "name": "ipython",
    "version": 3
   },
   "file_extension": ".py",
   "mimetype": "text/x-python",
   "name": "python",
   "nbconvert_exporter": "python",
   "pygments_lexer": "ipython3",
   "version": "3.11.5"
  }
 },
 "nbformat": 4,
 "nbformat_minor": 5
}
